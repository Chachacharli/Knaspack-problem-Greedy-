{
  "nbformat": 4,
  "nbformat_minor": 0,
  "metadata": {
    "colab": {
      "name": "Mochila heuristico",
      "provenance": [],
      "collapsed_sections": []
    },
    "kernelspec": {
      "name": "python3",
      "display_name": "Python 3"
    },
    "language_info": {
      "name": "python"
    }
  },
  "cells": [
    {
      "cell_type": "markdown",
      "source": [
        "## Problema de la mochila Greedy por valor "
      ],
      "metadata": {
        "id": "TspVrEgF73rw"
      }
    },
    {
      "cell_type": "code",
      "execution_count": null,
      "metadata": {
        "id": "-QfzLfb3ZIA3",
        "colab": {
          "base_uri": "https://localhost:8080/"
        },
        "outputId": "181cc582-0338-428f-cd41-2d5e1e5adbda"
      },
      "outputs": [
        {
          "output_type": "stream",
          "name": "stdout",
          "text": [
            "Valor optimo: 342\n"
          ]
        }
      ],
      "source": [
        "peso = [95,4,60,32,23,72,80,62,65,46]\n",
        "valor1 = [55,10,47,5,4,50,8,61,85,87]\n",
        "valor2 = [55,10,47,5,4,50,8,61,85,87]\n",
        "capacidad = 269\n",
        "n = 10\n",
        "pesoAcomodado = [None]*len(peso)\n",
        "\n",
        "valor1.sort(reverse = True)\n",
        "for i in range(len(peso)):\n",
        "  for j in range(len(peso)):\n",
        "    if(valor1[i] == valor2[j]):\n",
        "      pesoAcomodado[i] = peso[j]\n",
        "\n",
        "\n",
        "valorTotal = 0\n",
        "espacioRestante = capacidad\n",
        "\n",
        "for i in range(n):\n",
        "  espacioRestante -= peso[i]\n",
        "  if(espacioRestante<0):\n",
        "    espacioRestante += peso[i]\n",
        "  else:\n",
        "    valorTotal += valor1[i]\n",
        "\n",
        "print('Valor optimo: ' + str(valorTotal))"
      ]
    },
    {
      "cell_type": "code",
      "source": [
        "peso1= [95,4,60,32,23,72,80,62,65,46]\n",
        "peso2 =[95,4,60,32,23,72,80,62,65,46]\n",
        "valor = [55,10,47,5,4,50,8,61,85,87]\n",
        "capacidad = 269\n",
        "n = 10\n",
        "  \n",
        "peso1.sort(reverse = False)\n",
        "\n",
        "valorAcomodado = [None]*len(peso1)\n",
        "\n",
        "for i in range(len(peso1)):\n",
        "  for j in range(len(peso1)):\n",
        "    if(peso1[i] == peso2[j]):\n",
        "      valorAcomodado[i] = valor[j]\n",
        "\n",
        "valorTotal = 0\n",
        "espacioRestante = capacidad\n",
        "\n",
        "for i in range(n):\n",
        "  espacioRestante -= peso1[i]\n",
        "  if(espacioRestante<0):\n",
        "    espacioRestante += peso1[i]\n",
        "  else:\n",
        "    valorTotal += valor[i]\n",
        "\n",
        "print('Valor optimo: ' + str(valorTotal))"
      ],
      "metadata": {
        "colab": {
          "base_uri": "https://localhost:8080/"
        },
        "id": "mum9xK5TZebB",
        "outputId": "54a7b06f-f224-4210-bae5-df3f308c06e1"
      },
      "execution_count": null,
      "outputs": [
        {
          "output_type": "stream",
          "name": "stdout",
          "text": [
            "Valor optimo: 171\n"
          ]
        }
      ]
    },
    {
      "cell_type": "code",
      "source": [
        "peso= [95,4,60,32,23,72,80,62,65,46]\n",
        "valor = [55,10,47,5,4,50,8,61,85,87]\n",
        "costoB = [None]*len(peso)\n",
        "costoB2 = [None]*len(peso)\n",
        "capacidad = 269\n",
        "n = 10\n",
        "\n",
        "for i in range(n):\n",
        "  costoB[i] = valor[i]/peso[i]\n",
        "\n",
        "\n",
        "for i in range(n):\n",
        "  costoB2[i] = costoB[i]\n",
        "\n",
        "costoB.sort(reverse = True)\n",
        "\n",
        "valorAcomodado = [None]*len(valor)\n",
        "pesoAcomodado = [None]*len(valor)\n",
        "\n",
        "for i in range(n):\n",
        "  for j in range(n):\n",
        "    if(costoB[i] == costoB2[j]):\n",
        "      valorAcomodado[i] = valor[j]\n",
        "      pesoAcomodado[i] = peso[j]\n",
        "\n",
        "\n",
        "valorTotal = 0\n",
        "espacioRestante = capacidad\n",
        "for i in range(n):\n",
        "  espacioRestante -= pesoAcomodado[i]\n",
        "  if(espacioRestante<0):\n",
        "    espacioRestante += pesoAcomodado[i]\n",
        "  else: \n",
        "    valorTotal += valorAcomodado[i]\n",
        "\n",
        "print('Valor optimo: ' + str(valorTotal))"
      ],
      "metadata": {
        "colab": {
          "base_uri": "https://localhost:8080/"
        },
        "id": "DN3GJSEghI3c",
        "outputId": "4f816a15-cb93-4983-f778-8a0ef9d5a6be"
      },
      "execution_count": null,
      "outputs": [
        {
          "output_type": "stream",
          "name": "stdout",
          "text": [
            "Valor optimo: 294\n"
          ]
        }
      ]
    },
    {
      "cell_type": "markdown",
      "source": [
        "## Problema 2"
      ],
      "metadata": {
        "id": "cpUphQWKzkZw"
      }
    },
    {
      "cell_type": "code",
      "source": [
        "peso = [30,25,20,18,17,11,5,2,1,1]\n",
        "valor1 = [20,18,17,15,15,10,5,3,1,1]\n",
        "valor2 = [20,18,17,15,15,10,5,3,1,1]\n",
        "capacidad = 60\n",
        "n = 10\n",
        "pesoAcomodado = [None]*len(peso)\n",
        "valor1.sort(reverse = True)\n",
        "\n",
        "\n",
        "for i in range(len(peso)):\n",
        "  for j in range(len(peso)):\n",
        "    if(valor1[i] == valor2[j]):\n",
        "      pesoAcomodado[i] = peso[j]\n",
        "\n",
        "\n",
        "valorTotal = 0\n",
        "espacioRestante = capacidad\n",
        "\n",
        "for i in range(n):\n",
        "  espacioRestante -= peso[i]\n",
        "  if(espacioRestante<0):\n",
        "    espacioRestante += peso[i]\n",
        "  else:\n",
        "    valorTotal += valor1[i]\n",
        "\n",
        "print('Valor optimo: ' + str(valorTotal))"
      ],
      "metadata": {
        "colab": {
          "base_uri": "https://localhost:8080/"
        },
        "id": "H60vXp-kzjxI",
        "outputId": "83017ea8-27f7-49a6-a4aa-7194b1017df0"
      },
      "execution_count": null,
      "outputs": [
        {
          "output_type": "stream",
          "name": "stdout",
          "text": [
            "Valor optimo: 43\n"
          ]
        }
      ]
    },
    {
      "cell_type": "code",
      "source": [
        "peso1= [30,25,20,18,17,11,5,2,1,1]\n",
        "peso2 =[30,25,20,18,17,11,5,2,1,1]\n",
        "valor = [20,18,17,15,15,10,5,3,1,1]\n",
        "capacidad = 60\n",
        "n = 10\n",
        "\n",
        "peso1.sort(reverse = False)\n",
        "\n",
        "valorAcomodado = [None]*len(peso1)\n",
        "\n",
        "for i in range(len(peso1)):\n",
        "  for j in range(len(peso1)):\n",
        "    if(peso1[i] == peso2[j]):\n",
        "      valorAcomodado[i] = valor[j]\n",
        "\n",
        "valorTotal = 0\n",
        "espacioRestante = capacidad\n",
        "\n",
        "for i in range(n):\n",
        "  espacioRestante -= peso1[i]\n",
        "  if(espacioRestante<0):\n",
        "    espacioRestante += peso1[i]\n",
        "  else:\n",
        "    valorTotal += valor[i]\n",
        "\n",
        "print('Valor optimo: ' + str(valorTotal))"
      ],
      "metadata": {
        "colab": {
          "base_uri": "https://localhost:8080/"
        },
        "id": "TSZO2-c3zjvB",
        "outputId": "7ce412fb-bdb2-417a-cffc-4388eeb67421"
      },
      "execution_count": null,
      "outputs": [
        {
          "output_type": "stream",
          "name": "stdout",
          "text": [
            "Valor optimo: 100\n"
          ]
        }
      ]
    },
    {
      "cell_type": "code",
      "source": [
        "peso= [30,25,20,18,17,11,5,2,1,1]\n",
        "valor = [20,18,17,15,15,10,5,3,1,1]\n",
        "costoB = [None]*len(peso)\n",
        "costoB2 = [None]*len(peso)\n",
        "capacidad = 269\n",
        "n = 10\n",
        "\n",
        "for i in range(n):\n",
        "  costoB[i] = valor[i]/peso[i]\n",
        "\n",
        "\n",
        "for i in range(n):\n",
        "  costoB2[i] = costoB[i]\n",
        "\n",
        "costoB.sort(reverse = True)\n",
        "\n",
        "valorAcomodado = [None]*len(valor)\n",
        "pesoAcomodado = [None]*len(valor)\n",
        "\n",
        "for i in range(n):\n",
        "  for j in range(n):\n",
        "    if(costoB[i] == costoB2[j]):\n",
        "      valorAcomodado[i] = valor[j]\n",
        "      pesoAcomodado[i] = peso[j]\n",
        "\n",
        "\n",
        "valorTotal = 0\n",
        "espacioRestante = capacidad\n",
        "for i in range(n):\n",
        "  espacioRestante -= pesoAcomodado[i]\n",
        "  if(espacioRestante<0):\n",
        "    espacioRestante += pesoAcomodado[i]\n",
        "  else: \n",
        "    valorTotal += valorAcomodado[i]\n",
        "\n",
        "print('Valor optimo: ' + str(valorTotal))"
      ],
      "metadata": {
        "colab": {
          "base_uri": "https://localhost:8080/"
        },
        "id": "r0ZN1NspzjsI",
        "outputId": "2c463d9c-44d5-4106-d0b0-5cb57d67bec9"
      },
      "execution_count": null,
      "outputs": [
        {
          "output_type": "stream",
          "name": "stdout",
          "text": [
            "Valor optimo: 101\n"
          ]
        }
      ]
    },
    {
      "cell_type": "markdown",
      "source": [
        "## Problema3"
      ],
      "metadata": {
        "id": "b7MXTfMQznzw"
      }
    },
    {
      "cell_type": "code",
      "source": [
        "peso = [92,4,43,83,84,68,92,82,6,44,32,18,56,83,5,96,70,48,14,58]\n",
        "valor1 = [44,46,90,72,91,40,75,35,8,54,78,40,77,15,61,17,75,29,75,63]\n",
        "valor2 = [44,46,90,72,91,40,75,35,8,54,78,40,77,15,61,17,75,29,75,63]\n",
        "capacidad = 878\n",
        "n = 20\n",
        "pesoAcomodado = [None]*len(peso)\n",
        "valor1.sort(reverse = True)\n",
        "\n",
        "\n",
        "for i in range(len(peso)):\n",
        "  for j in range(len(peso)):\n",
        "    if(valor1[i] == valor2[j]):\n",
        "      pesoAcomodado[i] = peso[j]\n",
        "\n",
        "\n",
        "valorTotal = 0\n",
        "espacioRestante = capacidad\n",
        "\n",
        "for i in range(n):\n",
        "  espacioRestante -= peso[i]\n",
        "  if(espacioRestante<0):\n",
        "    espacioRestante += peso[i]\n",
        "  else:\n",
        "    valorTotal += valor1[i]\n",
        "\n",
        "print('Valor optimo: ' + str(valorTotal))"
      ],
      "metadata": {
        "colab": {
          "base_uri": "https://localhost:8080/"
        },
        "id": "FyWg12XDzjea",
        "outputId": "aade1b07-886f-49c7-ae13-6396158cce60"
      },
      "execution_count": null,
      "outputs": [
        {
          "output_type": "stream",
          "name": "stdout",
          "text": [
            "Valor optimo: 1025\n"
          ]
        }
      ]
    },
    {
      "cell_type": "code",
      "source": [
        "peso1= [92,4,43,83,84,68,92,82,6,44,32,18,56,83,5,96,70,48,14,58]\n",
        "peso2 = [92,4,43,83,84,68,92,82,6,44,32,18,56,83,5,96,70,48,14,58]\n",
        "valor = [44,46,90,72,91,40,75,35,8,54,78,40,77,15,61,17,75,29,75,63]\n",
        "capacidad = 878\n",
        "n = 20\n",
        "\n",
        "peso1.sort(reverse = False)\n",
        "\n",
        "valorAcomodado = [None]*len(peso1)\n",
        "\n",
        "for i in range(len(peso1)):\n",
        "  for j in range(len(peso1)):\n",
        "    if(peso1[i] == peso2[j]):\n",
        "      valorAcomodado[i] = valor[j]\n",
        "\n",
        "valorTotal = 0\n",
        "espacioRestante = capacidad\n",
        "\n",
        "for i in range(n):\n",
        "  espacioRestante -= peso1[i]\n",
        "  if(espacioRestante<0):\n",
        "    espacioRestante += peso1[i]\n",
        "  else:\n",
        "    valorTotal += valor[i]\n",
        "\n",
        "print('Valor optimo: ' + str(valorTotal))"
      ],
      "metadata": {
        "colab": {
          "base_uri": "https://localhost:8080/"
        },
        "id": "uX9d7PbNzjWi",
        "outputId": "68dc2a86-a751-479b-b613-a72a66974879"
      },
      "execution_count": null,
      "outputs": [
        {
          "output_type": "stream",
          "name": "stdout",
          "text": [
            "Valor optimo: 918\n"
          ]
        }
      ]
    },
    {
      "cell_type": "code",
      "source": [
        "peso = [92,4,43,83,84,68,92,82,6,44,32,18,56,83,5,96,70,48,14,58]\n",
        "valor = [44,46,90,72,91,40,75,35,8,54,78,40,77,15,61,17,75,29,75,63]\n",
        "costoB = [None]*len(peso)\n",
        "costoB2 = [None]*len(peso)\n",
        "capacidad = 878\n",
        "n = 20\n",
        "\n",
        "for i in range(n):\n",
        "  costoB[i] = valor[i]/peso[i]\n",
        "\n",
        "\n",
        "for i in range(n):\n",
        "  costoB2[i] = costoB[i]\n",
        "\n",
        "costoB.sort(reverse = True)\n",
        "\n",
        "valorAcomodado = [None]*len(valor)\n",
        "pesoAcomodado = [None]*len(valor)\n",
        "\n",
        "for i in range(n):\n",
        "  for j in range(n):\n",
        "    if(costoB[i] == costoB2[j]):\n",
        "      valorAcomodado[i] = valor[j]\n",
        "      pesoAcomodado[i] = peso[j]\n",
        "\n",
        "\n",
        "valorTotal = 0\n",
        "espacioRestante = capacidad\n",
        "for i in range(n):\n",
        "  espacioRestante -= pesoAcomodado[i]\n",
        "  if(espacioRestante<0):\n",
        "    espacioRestante += pesoAcomodado[i]\n",
        "  else: \n",
        "    valorTotal += valorAcomodado[i]\n",
        "\n",
        "print('Valor optimo: ' + str(valorTotal))"
      ],
      "metadata": {
        "colab": {
          "base_uri": "https://localhost:8080/"
        },
        "id": "b1BNLQyxzjIj",
        "outputId": "919474fc-949f-43df-c047-1cb297bcd811"
      },
      "execution_count": null,
      "outputs": [
        {
          "output_type": "stream",
          "name": "stdout",
          "text": [
            "Valor optimo: 1018\n"
          ]
        }
      ]
    },
    {
      "cell_type": "markdown",
      "source": [
        "## Problema4"
      ],
      "metadata": {
        "id": "cfEwK0ZtzqZC"
      }
    },
    {
      "cell_type": "code",
      "source": [
        "peso =   [983,982,981,980,979,978,488,976,972,486,486,972,972,485,485,969,966,483,964,963,961,958,955]\n",
        "valor1 = [981,980,979,978,977,976,487,974,970,485,970,970,970,484,484,976,974,482,962,961,9559,958,857]\n",
        "valor2 = [981,980,979,978,977,976,487,974,970,485,970,970,970,484,484,976,974,482,962,961,9559,958,857]\n",
        "capacidad = 10000\n",
        "n = 23\n",
        "pesoAcomodado = [None]*len(peso)\n",
        "valor1.sort(reverse = True)\n",
        "\n",
        "\n",
        "for i in range(len(peso)):\n",
        "  for j in range(len(peso)):\n",
        "    if(valor1[i] == valor2[j]):\n",
        "      pesoAcomodado[i] = peso[j]\n",
        "\n",
        "\n",
        "valorTotal = 0\n",
        "espacioRestante = capacidad\n",
        "\n",
        "for i in range(n):\n",
        "  espacioRestante -= peso[i]\n",
        "  if(espacioRestante<0):\n",
        "    espacioRestante += peso[i]\n",
        "  else:\n",
        "    valorTotal += valor1[i]\n",
        "\n",
        "print('Valor optimo: ' + str(valorTotal))"
      ],
      "metadata": {
        "colab": {
          "base_uri": "https://localhost:8080/"
        },
        "id": "SnmxgxmFzqJ4",
        "outputId": "791fa3b5-d30b-48de-efc1-f3d1669c0d8e"
      },
      "execution_count": null,
      "outputs": [
        {
          "output_type": "stream",
          "name": "stdout",
          "text": [
            "Valor optimo: 20294\n"
          ]
        }
      ]
    },
    {
      "cell_type": "code",
      "source": [
        "peso1 =   [983,982,981,980,979,978,488,976,972,486,486,972,972,485,485,969,966,483,964,963,961,958,955]\n",
        "peso2 =   [983,982,981,980,979,978,488,976,972,486,486,972,972,485,485,969,966,483,964,963,961,958,955]\n",
        "valor = [981,980,979,978,977,976,487,974,970,485,970,970,970,484,484,976,974,482,962,961,9559,958,857]\n",
        "capacidad = 10000\n",
        "n = 23\n",
        "\n",
        "peso1.sort(reverse = False)\n",
        "\n",
        "valorAcomodado = [None]*len(peso1)\n",
        "\n",
        "for i in range(len(peso1)):\n",
        "  for j in range(len(peso1)):\n",
        "    if(peso1[i] == peso2[j]):\n",
        "      valorAcomodado[i] = valor[j]\n",
        "\n",
        "valorTotal = 0\n",
        "espacioRestante = capacidad\n",
        "\n",
        "for i in range(n):\n",
        "  espacioRestante -= peso1[i]\n",
        "  if(espacioRestante<0):\n",
        "    espacioRestante += peso1[i]\n",
        "  else:\n",
        "    valorTotal += valor[i]\n",
        "\n",
        "print('Valor optimo: ' + str(valorTotal))"
      ],
      "metadata": {
        "colab": {
          "base_uri": "https://localhost:8080/"
        },
        "id": "XVvKMiKrzqHU",
        "outputId": "ed4d16ec-9fdf-450b-8f58-1d9b481482c5"
      },
      "execution_count": null,
      "outputs": [
        {
          "output_type": "stream",
          "name": "stdout",
          "text": [
            "Valor optimo: 11697\n"
          ]
        }
      ]
    },
    {
      "cell_type": "code",
      "source": [
        "peso =   [983,982,981,980,979,978,488,976,972,486,486,972,972,485,485,969,966,483,964,963,961,958,955]\n",
        "valor = [981,980,979,978,977,976,487,974,970,485,970,970,970,484,484,976,974,482,962,961,9559,958,857]\n",
        "costoB = [None]*len(peso)\n",
        "costoB2 = [None]*len(peso)\n",
        "capacidad = 10000\n",
        "n = 23\n",
        "\n",
        "for i in range(n):\n",
        "  costoB[i] = valor[i]/peso[i]\n",
        "\n",
        "\n",
        "for i in range(n):\n",
        "  costoB2[i] = costoB[i]\n",
        "\n",
        "costoB.sort(reverse = True)\n",
        "\n",
        "valorAcomodado = [None]*len(valor)\n",
        "pesoAcomodado = [None]*len(valor)\n",
        "\n",
        "for i in range(n):\n",
        "  for j in range(n):\n",
        "    if(costoB[i] == costoB2[j]):\n",
        "      valorAcomodado[i] = valor[j]\n",
        "      pesoAcomodado[i] = peso[j]\n",
        "\n",
        "\n",
        "valorTotal = 0\n",
        "espacioRestante = capacidad\n",
        "for i in range(n):\n",
        "  espacioRestante -= pesoAcomodado[i]\n",
        "  if(espacioRestante<0):\n",
        "    espacioRestante += pesoAcomodado[i]\n",
        "  else: \n",
        "    valorTotal += valorAcomodado[i]\n",
        "\n",
        "print('Valor optimo: ' + str(valorTotal))"
      ],
      "metadata": {
        "colab": {
          "base_uri": "https://localhost:8080/"
        },
        "id": "zv9iMuOZzqEc",
        "outputId": "e0d0d428-c0bb-44ba-e499-a03c65d27e77"
      },
      "execution_count": null,
      "outputs": [
        {
          "output_type": "stream",
          "name": "stdout",
          "text": [
            "Valor optimo: 18816\n"
          ]
        }
      ]
    }
  ]
}